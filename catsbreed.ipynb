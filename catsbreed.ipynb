{
  "nbformat": 4,
  "nbformat_minor": 0,
  "metadata": {
    "colab": {
      "name": "catsbreed.ipynb",
      "provenance": [],
      "authorship_tag": "ABX9TyOTElwzb/ImEKMxTKLrKjGl",
      "include_colab_link": true
    },
    "kernelspec": {
      "name": "python3",
      "display_name": "Python 3"
    },
    "accelerator": "GPU"
  },
  "cells": [
    {
      "cell_type": "markdown",
      "metadata": {
        "id": "view-in-github",
        "colab_type": "text"
      },
      "source": [
        "<a href=\"https://colab.research.google.com/github/anjalirawat-cell/CareerHub2020.github.io/blob/master/catsbreed.ipynb\" target=\"_parent\"><img src=\"https://colab.research.google.com/assets/colab-badge.svg\" alt=\"Open In Colab\"/></a>"
      ]
    },
    {
      "cell_type": "code",
      "metadata": {
        "id": "WEeMQ2YcK26-",
        "outputId": "a485959f-13f0-4adb-f83b-2f31dc47ffd8",
        "colab": {
          "base_uri": "https://localhost:8080/",
          "height": 34
        }
      },
      "source": [
        "from google.colab import drive\n",
        "drive.mount('/content/gdrive')"
      ],
      "execution_count": null,
      "outputs": [
        {
          "output_type": "stream",
          "text": [
            "Mounted at /content/gdrive\n"
          ],
          "name": "stdout"
        }
      ]
    },
    {
      "cell_type": "code",
      "metadata": {
        "id": "CVhy-unOLLtS",
        "outputId": "289e20d0-3164-4399-c326-f8ae38c5b3a0",
        "colab": {
          "base_uri": "https://localhost:8080/",
          "height": 101
        }
      },
      "source": [
        "pip install patool"
      ],
      "execution_count": null,
      "outputs": [
        {
          "output_type": "stream",
          "text": [
            "Collecting patool\n",
            "\u001b[?25l  Downloading https://files.pythonhosted.org/packages/43/94/52243ddff508780dd2d8110964320ab4851134a55ab102285b46e740f76a/patool-1.12-py2.py3-none-any.whl (77kB)\n",
            "\r\u001b[K     |████▎                           | 10kB 29.1MB/s eta 0:00:01\r\u001b[K     |████████▌                       | 20kB 22.8MB/s eta 0:00:01\r\u001b[K     |████████████▊                   | 30kB 27.8MB/s eta 0:00:01\r\u001b[K     |█████████████████               | 40kB 14.8MB/s eta 0:00:01\r\u001b[K     |█████████████████████▏          | 51kB 12.8MB/s eta 0:00:01\r\u001b[K     |█████████████████████████▍      | 61kB 11.9MB/s eta 0:00:01\r\u001b[K     |█████████████████████████████▋  | 71kB 12.4MB/s eta 0:00:01\r\u001b[K     |████████████████████████████████| 81kB 7.3MB/s \n",
            "\u001b[?25hInstalling collected packages: patool\n",
            "Successfully installed patool-1.12\n"
          ],
          "name": "stdout"
        }
      ]
    },
    {
      "cell_type": "code",
      "metadata": {
        "id": "m5ZpT2InM53a"
      },
      "source": [
        "import patoolib"
      ],
      "execution_count": null,
      "outputs": []
    },
    {
      "cell_type": "code",
      "metadata": {
        "id": "4RcteB_6M9M7",
        "outputId": "f2818cdf-894f-4d21-c3d1-e8444f7aa82d",
        "colab": {
          "base_uri": "https://localhost:8080/",
          "height": 50
        }
      },
      "source": [
        "patoolib.extract_archive('/content/gdrive/My Drive/catsbreed.zip',outdir=\"/content/gdrive/My Drive/CatsBreeds\")"
      ],
      "execution_count": null,
      "outputs": [
        {
          "output_type": "stream",
          "text": [
            "patool: Extracting /content/gdrive/My Drive/catsbreed.zip ...\n",
            "patool: running /usr/bin/7z x \"-o/content/gdrive/My Drive/CatsBreeds\" -- \"/content/gdrive/My Drive/catsbreed.zip\"\n"
          ],
          "name": "stdout"
        }
      ]
    },
    {
      "cell_type": "code",
      "metadata": {
        "id": "27N-3SvQNrJq"
      },
      "source": [
        "import pandas as pd \n",
        "import numpy as np\n",
        "from tensorflow import keras\n",
        "import os\n",
        "from tqdm import tqdm\n",
        "from matplotlib import pyplot as plt\n",
        "from tensorflow.keras.preprocessing.image import ImageDataGenerator\n",
        "from PIL import Image,ImageFile\n",
        "ImageFile.LOAD_TRUNCATED_IMAGES=True\n",
        "\n"
      ],
      "execution_count": null,
      "outputs": []
    },
    {
      "cell_type": "code",
      "metadata": {
        "id": "Ok3eTkVGN8lt"
      },
      "source": [
        "root_dir=r'/content/gdrive/My Drive/CatsBreeds/images'"
      ],
      "execution_count": null,
      "outputs": []
    },
    {
      "cell_type": "code",
      "metadata": {
        "id": "tXBucXsSP9mn"
      },
      "source": [
        "train_datagen = ImageDataGenerator(rescale = 1./255,\n",
        "                shear_range= 0.2,\n",
        "                zoom_range =0.2,\n",
        "                horizontal_flip = True,\n",
        "                validation_split=0.2)"
      ],
      "execution_count": null,
      "outputs": []
    },
    {
      "cell_type": "code",
      "metadata": {
        "id": "6NFJYRnCQLZp",
        "outputId": "4b50b788-14b0-4768-8bae-537a437c80a9",
        "colab": {
          "base_uri": "https://localhost:8080/",
          "height": 34
        }
      },
      "source": [
        "train_set = train_datagen.flow_from_directory(root_dir,\n",
        "                                               target_size = (150,150),\n",
        "                                               batch_size =32,\n",
        "                                               class_mode ='categorical',\n",
        "                                               subset='training')"
      ],
      "execution_count": null,
      "outputs": [
        {
          "output_type": "stream",
          "text": [
            "Found 26259 images belonging to 26 classes.\n"
          ],
          "name": "stdout"
        }
      ]
    },
    {
      "cell_type": "code",
      "metadata": {
        "id": "iHlTMxiVQ7ph",
        "outputId": "c30e7e47-7439-42a9-ac80-f1b8f3282b69",
        "colab": {
          "base_uri": "https://localhost:8080/",
          "height": 34
        }
      },
      "source": [
        "test_set = train_datagen.flow_from_directory(root_dir,\n",
        "                                               target_size = (150,150),\n",
        "                                               batch_size =32,\n",
        "                                               class_mode ='categorical',\n",
        "                                               subset='validation')"
      ],
      "execution_count": null,
      "outputs": [
        {
          "output_type": "stream",
          "text": [
            "Found 10294 images belonging to 26 classes.\n"
          ],
          "name": "stdout"
        }
      ]
    },
    {
      "cell_type": "code",
      "metadata": {
        "id": "zgv07zzcRMGb",
        "outputId": "03a9c1ef-e467-404d-957a-bfcf5d162b41",
        "colab": {
          "base_uri": "https://localhost:8080/",
          "height": 171
        }
      },
      "source": [
        "cnn.fit_generator(train_set,\n",
        "                   steps_per_epoch=156,\n",
        "                   epochs=15,\n",
        "                   validation_data = test_set,\n",
        "                  validation_steps = 500)"
      ],
      "execution_count": null,
      "outputs": [
        {
          "output_type": "stream",
          "text": [
            "WARNING:tensorflow:From <ipython-input-10-122e4e3c6723>:5: Model.fit_generator (from tensorflow.python.keras.engine.training) is deprecated and will be removed in a future version.\n",
            "Instructions for updating:\n",
            "Please use Model.fit, which supports generators.\n",
            "Epoch 1/15\n",
            "156/156 [==============================] - ETA: 0s - loss: 2.4090 - accuracy: 0.1605WARNING:tensorflow:Your input ran out of data; interrupting training. Make sure that your dataset or generator can generate at least `steps_per_epoch * epochs` batches (in this case, 500 batches). You may need to use the repeat() function when building your dataset.\n",
            "156/156 [==============================] - 3609s 23s/step - loss: 2.4090 - accuracy: 0.1605 - val_loss: 4.3002 - val_accuracy: 0.0953\n",
            "Epoch 2/15\n",
            " 84/156 [===============>..............] - ETA: 7:05 - loss: 2.3101 - accuracy: 0.1771"
          ],
          "name": "stdout"
        }
      ]
    },
    {
      "cell_type": "code",
      "metadata": {
        "id": "GhEhh-H6RcnI"
      },
      "source": [
        "from keras.models import Sequential\n",
        "from keras.layers import Convolution2D\n",
        "from keras.layers import MaxPooling2D\n",
        "from keras.layers import Flatten\n",
        "from keras.layers import Dense"
      ],
      "execution_count": null,
      "outputs": []
    },
    {
      "cell_type": "code",
      "metadata": {
        "id": "XGJxMqn2Rdgr",
        "outputId": "a140eab1-3eec-4b0e-86c1-40b139f83f86",
        "colab": {
          "base_uri": "https://localhost:8080/",
          "height": 420
        }
      },
      "source": [
        "cnn = Sequential()\n",
        "#step -1\n",
        "cnn.add(Convolution2D(32, 3, 3, input_shape = (150, 150, 3), activation = 'relu'))\n",
        "\n",
        "#step-2\n",
        "cnn.add(MaxPooling2D(pool_size = (2,2)))\n",
        "\n",
        "cnn.add(Convolution2D(32, 3, 3,  activation = 'relu'))\n",
        "\n",
        "cnn.add(MaxPooling2D(pool_size = (2,2)))\n",
        "\n",
        "\n",
        "#step-3\n",
        "cnn.add(Flatten())\n",
        "\n",
        "#step-4\n",
        "cnn.add(Dense(units = 500, activation = 'relu'))\n",
        "cnn.add(Dense(units = 128, activation = 'relu'))\n",
        "cnn.add(Dense(units = 26, activation = 'softmax'))\n",
        "\n",
        "#step -5\n",
        "cnn.compile(optimizer = 'adam', loss = 'categorical_crossentropy', metrics=['accuracy'])\n",
        "\n",
        "cnn.summary()"
      ],
      "execution_count": null,
      "outputs": [
        {
          "output_type": "stream",
          "text": [
            "Model: \"sequential\"\n",
            "_________________________________________________________________\n",
            "Layer (type)                 Output Shape              Param #   \n",
            "=================================================================\n",
            "conv2d (Conv2D)              (None, 50, 50, 32)        896       \n",
            "_________________________________________________________________\n",
            "max_pooling2d (MaxPooling2D) (None, 25, 25, 32)        0         \n",
            "_________________________________________________________________\n",
            "conv2d_1 (Conv2D)            (None, 8, 8, 32)          9248      \n",
            "_________________________________________________________________\n",
            "max_pooling2d_1 (MaxPooling2 (None, 4, 4, 32)          0         \n",
            "_________________________________________________________________\n",
            "flatten (Flatten)            (None, 512)               0         \n",
            "_________________________________________________________________\n",
            "dense (Dense)                (None, 500)               256500    \n",
            "_________________________________________________________________\n",
            "dense_1 (Dense)              (None, 128)               64128     \n",
            "_________________________________________________________________\n",
            "dense_2 (Dense)              (None, 26)                3354      \n",
            "=================================================================\n",
            "Total params: 334,126\n",
            "Trainable params: 334,126\n",
            "Non-trainable params: 0\n",
            "_________________________________________________________________\n"
          ],
          "name": "stdout"
        }
      ]
    },
    {
      "cell_type": "code",
      "metadata": {
        "id": "YHJ1dQIoR6sP"
      },
      "source": [
        ""
      ],
      "execution_count": null,
      "outputs": []
    },
    {
      "cell_type": "code",
      "metadata": {
        "id": "e8ysvMhpR8Vw"
      },
      "source": [
        ""
      ],
      "execution_count": null,
      "outputs": []
    }
  ]
}